{
 "cells": [
  {
   "cell_type": "markdown",
   "metadata": {},
   "source": [
    "# K Means Clustring\n",
    "\n",
    "The purpose of this notebook is to give you a sense of whats happening when you use an algorithm from sklearn, and hopefully covey how you can learn more by trying to implement them yourself.  With K-Mean means the goal is to seperate our examples in $ k $ clusters $ C = \\{C_1,C_2,...,C_k \\} $. \n"
   ]
  },
  {
   "cell_type": "markdown",
   "metadata": {},
   "source": [
    "# Algorithm\n",
    "\n",
    "The way the algorithm works is as follows.\n",
    "\n",
    "1. Randomly pick $ k $ points as our cluster centers, these points are called centroids\n",
    "2. Assgin each $ x_i $ to the closest centroid based on euclidean distance, to create a cluster.\n",
    "3. Take the mean of all points assigned to a cluster to calculate new centroid.\n",
    "4. Repeat step 2 and 3 until none of the centorids move or we pass the iteration limit.\n"
   ]
  },
  {
   "cell_type": "markdown",
   "metadata": {},
   "source": [
    "Mathematically by performing this algorithm we are minimizing the following equation with respect to $ C_k $ and $ \\mu_k $:\n",
    "\n",
    "$$ \\displaystyle \\sum_{k=1}^K \\sum_{\\mathrm{x}_n \\in C_k} ||\\mathrm{x}_n - \\mu_k||^2 $$\n",
    "\n",
    "* $ C = \\{C_1,C_2,...,C_k \\} $ is the set of clusters \n",
    "* $ \\mu_k $ is the centroid, this is calculated by taking the mean of all of the point a cluster$ C_k $.\n",
    "* $ x_n $ is a data point.\n",
    "* $ || $ is eucldiean distance.\n",
    "\n",
    "You may notice the similarity with the equation for variance which is:\n",
    "\n",
    "$$ \\frac{1}{N} \\sum_{i=1}^{N}  (x_i - \\mu)^2 $$\n",
    "\n",
    "And we are in fact trying to minmize the variance within each of the $ K $ clusters, helping us to create coherent clusters."
   ]
  },
  {
   "cell_type": "markdown",
   "metadata": {},
   "source": [
    "# Data\n",
    "\n",
    "We'll use sklearn to generate some dummy data for us."
   ]
  },
  {
   "cell_type": "code",
   "execution_count": 18,
   "metadata": {},
   "outputs": [],
   "source": [
    "import matplotlib.pyplot as plt\n",
    "import seaborn as sns\n",
    "import numpy as np"
   ]
  },
  {
   "cell_type": "code",
   "execution_count": 19,
   "metadata": {
    "collapsed": true
   },
   "outputs": [],
   "source": [
    "from sklearn.datasets.samples_generator import make_blobs\n",
    "X, y = make_blobs(n_samples=1000, centers=3, n_features=2,cluster_std = 0.7 , random_state=0)"
   ]
  },
  {
   "cell_type": "code",
   "execution_count": 20,
   "metadata": {},
   "outputs": [
    {
     "data": {
      "text/plain": [
       "(1000, 2)"
      ]
     },
     "execution_count": 20,
     "metadata": {},
     "output_type": "execute_result"
    }
   ],
   "source": [
    "X.shape #1000 for number of examples, 2 for dimentiality of data points "
   ]
  },
  {
   "cell_type": "code",
   "execution_count": 21,
   "metadata": {},
   "outputs": [
    {
     "data": {
      "text/plain": [
       "(1000,)"
      ]
     },
     "execution_count": 21,
     "metadata": {},
     "output_type": "execute_result"
    }
   ],
   "source": [
    "y.shape #1000 contains the label for each point"
   ]
  },
  {
   "cell_type": "code",
   "execution_count": 22,
   "metadata": {},
   "outputs": [
    {
     "data": {
      "text/plain": [
       "<matplotlib.collections.PathCollection at 0x1a141adac8>"
      ]
     },
     "execution_count": 22,
     "metadata": {},
     "output_type": "execute_result"
    }
   ],
   "source": [
    "plt.scatter(X[:,0],X[:,1])"
   ]
  },
  {
   "cell_type": "markdown",
   "metadata": {},
   "source": [
    "# Inizialize\n",
    "\n",
    "We need to pick points for our centroids to initialize the algorithm, there's a few ways to do this but we'll settle for the simplest randomly picking $ k $ points from our dataset."
   ]
  },
  {
   "cell_type": "code",
   "execution_count": 23,
   "metadata": {
    "collapsed": true
   },
   "outputs": [],
   "source": [
    "def random_centroids(X,k):\n",
    "    \"\"\"\n",
    "    Randomly pick K points for our centroids, returns a matrix\n",
    "    of shape K by N. Where each row represent a centroid.\n",
    "    \"\"\"\n",
    "    return X[np.random.choice(X.shape[0], k), :]"
   ]
  },
  {
   "cell_type": "markdown",
   "metadata": {},
   "source": [
    "# Assignment\n",
    "\n",
    "For this stage we need to calculate the eucldiean distance between each point and each centroid. We then assign each point to the cluster with the closest centroid.\n",
    "\n",
    "$$ \\displaystyle C_k = \\{\\mathrm{x}_n : ||\\mathrm{x}_n - \\mu_k|| \\leq \\mathrm{\\,\\,all\\,\\,} ||\\mathrm{x}_n - \\mu_l||\\} $$\n",
    "\n",
    "More fomally the above equation is saying that the $k$th cluster $ C_k $ is the set of all point for which eucldiean distance between $ x_n $ and the $ \\mu_k $ is the smallest. "
   ]
  },
  {
   "cell_type": "code",
   "execution_count": 24,
   "metadata": {
    "collapsed": true
   },
   "outputs": [],
   "source": [
    "def closest_centroids(X,centroids):\n",
    "    \n",
    "    \"\"\"\n",
    "    Calculate the closest centroid for each point by calculating\n",
    "    the eucldian distance and return a label for each centroid\n",
    "    \"\"\"\n",
    "    distance = np.array([ np.sum((X-centroid)**2,axis=1) for centroid in centroids ])\n",
    "    return distance.argmin(axis=0)"
   ]
  },
  {
   "cell_type": "markdown",
   "metadata": {},
   "source": [
    "# Update\n",
    "\n",
    "To update the centroid we take the mean of all points in it's cluster.\n",
    "\n",
    "\n",
    "$$ c_{k}^{(t+1)}={\\frac {1}{|C_{k}^{(t)}|}}\\sum _{x_{i}\\in C_{k}^{(t)}}x_{i} $$\n",
    "\n",
    "\n"
   ]
  },
  {
   "cell_type": "code",
   "execution_count": 25,
   "metadata": {
    "collapsed": true
   },
   "outputs": [],
   "source": [
    "def calc_new_centroids(X,labels,k):\n",
    "    \"\"\"\n",
    "    labels = the old centroid\n",
    "    Calculates the new centroids based on the average of each axis.\n",
    "    Let the new centroid be the mean of each column (representing each centroid) \n",
    "    \"\"\"\n",
    "    return np.array([ X[labels == k ].mean(axis=0) for k in range(k)])"
   ]
  },
  {
   "cell_type": "code",
   "execution_count": 26,
   "metadata": {},
   "outputs": [],
   "source": [
    "# Examples\n",
    "# x = np.arange(0,12).reshape(4,3)\n",
    "# x.mean(axis = 0).shape"
   ]
  },
  {
   "cell_type": "markdown",
   "metadata": {},
   "source": [
    "# Should stop\n",
    "\n",
    "Under two circumstances should the algorithm stop:\n",
    "\n",
    "* It's converged meaning the centroids are no longer moving\n",
    "* We've passed the number of iterations\n"
   ]
  },
  {
   "cell_type": "code",
   "execution_count": 30,
   "metadata": {
    "collapsed": true
   },
   "outputs": [],
   "source": [
    "def should_stop(old_centroids,new_centroids,current_iter,max_iters = 10):\n",
    "    \n",
    "    if current_iter > max_iters: return True\n",
    "    return np.all(old_centroids == new_centroids)"
   ]
  },
  {
   "cell_type": "markdown",
   "metadata": {},
   "source": [
    "# Altogether \n",
    "\n",
    "We've broken down the algo it small parts now lets piece it altogether for our final implementation. \n"
   ]
  },
  {
   "cell_type": "code",
   "execution_count": 31,
   "metadata": {
    "collapsed": true
   },
   "outputs": [],
   "source": [
    "def kmeans(X,k,max_iters =100):\n",
    "    \n",
    "    centroids = random_centroids(X,k)\n",
    "    labels = old_centroids = None\n",
    "    iteration = 1\n",
    "    \n",
    "    while not should_stop(old_centroids,centroids,iteration,max_iters):\n",
    "        labels = closest_centroids(X,centroids)\n",
    "        old_centroids = centroids\n",
    "        centroids = calc_new_centroids(X,labels,k)\n",
    "        iteration += 1\n",
    "    return centroids, labels"
   ]
  },
  {
   "cell_type": "code",
   "execution_count": 32,
   "metadata": {},
   "outputs": [
    {
     "name": "stderr",
     "output_type": "stream",
     "text": [
      "/Users/andy/anaconda2/envs/py36/lib/python3.6/site-packages/ipykernel_launcher.py:4: FutureWarning: comparison to `None` will result in an elementwise object comparison in the future.\n",
      "  after removing the cwd from sys.path.\n"
     ]
    }
   ],
   "source": [
    "k = 3\n",
    "centroids,labels = kmeans(X,k)\n",
    "\n",
    "for i,color in zip(range(k),['r','b','g']):\n",
    "    d = X[labels == i]\n",
    "    plt.scatter(d[:,0],d[:,1],color= color)"
   ]
  },
  {
   "cell_type": "markdown",
   "metadata": {},
   "source": [
    "# Double Check\n",
    "\n",
    "Now that we've implemented our algorithm lets double check it against sklearn."
   ]
  },
  {
   "cell_type": "code",
   "execution_count": 36,
   "metadata": {
    "collapsed": true
   },
   "outputs": [],
   "source": [
    "from sklearn.cluster import KMeans\n",
    "%matplotlib inline"
   ]
  },
  {
   "cell_type": "code",
   "execution_count": 37,
   "metadata": {},
   "outputs": [
    {
     "name": "stderr",
     "output_type": "stream",
     "text": [
      "/Users/andy/anaconda2/envs/py36/lib/python3.6/site-packages/ipykernel_launcher.py:4: FutureWarning: comparison to `None` will result in an elementwise object comparison in the future.\n",
      "  after removing the cwd from sys.path.\n"
     ]
    }
   ],
   "source": [
    "k = 3\n",
    "#Sklearn version\n",
    "kmeans_sk = KMeans(3,init='random')\n",
    "kmeans_sk.fit(X)\n",
    "pred_sk = kmeans_sk.predict(X)\n",
    "#Our pred\n",
    "centroids,pred_me = kmeans(X,k)"
   ]
  },
  {
   "cell_type": "code",
   "execution_count": 39,
   "metadata": {},
   "outputs": [
    {
     "data": {
      "text/plain": [
       "array([[  0,   0, 331],\n",
       "       [  0, 332,   1],\n",
       "       [336,   0,   0]])"
      ]
     },
     "execution_count": 39,
     "metadata": {},
     "output_type": "execute_result"
    }
   ],
   "source": [
    "from sklearn.metrics import confusion_matrix\n",
    "confusion_matrix(labels, pred_sk)"
   ]
  },
  {
   "cell_type": "code",
   "execution_count": 38,
   "metadata": {},
   "outputs": [
    {
     "data": {
      "image/png": "[encoded data removed]",
      "text/plain": [
       "<Figure size 720x360 with 2 Axes>"
      ]
     },
     "metadata": {},
     "output_type": "display_data"
    }
   ],
   "source": [
    "fig, axes = plt.subplots(1,2)\n",
    "fig.set_size_inches(10,5)\n",
    "\n",
    "for i,(title,pred) in enumerate(zip([\"Sklearn\",\"Me\"],[pred_sk,pred_me])):\n",
    "    for j in range(k):\n",
    "        axes[i].scatter(X[pred == j,0],X[pred == j,1])\n",
    "    axes[i].set_title(title)"
   ]
  },
  {
   "cell_type": "markdown",
   "metadata": {},
   "source": [
    "# Choosing K\n",
    "\n",
    "K means  is a little naive it will also find k-clusters even if this isn't the best number, so how do we know whats a good value to pick for k?  We can calculate the SSE for each point. The SSE is the sqaured distance between each point in a cluster and it's centroid."
   ]
  },
  {
   "cell_type": "code",
   "execution_count": 18,
   "metadata": {
    "collapsed": true
   },
   "outputs": [],
   "source": [
    "X, y = make_blobs(n_samples=1000, centers=5, n_features=2,cluster_std = 0.7 , random_state=0)"
   ]
  },
  {
   "cell_type": "code",
   "execution_count": 19,
   "metadata": {},
   "outputs": [
    {
     "data": {
      "text/plain": [
       "<matplotlib.collections.PathCollection at 0x7f46b4e476a0>"
      ]
     },
     "execution_count": 19,
     "metadata": {},
     "output_type": "execute_result"
    },
    {
     "data": {
      "image/png": "[encoded data removed]",
      "text/plain": [
       "<matplotlib.figure.Figure at 0x7f46ba6b49b0>"
      ]
     },
     "metadata": {},
     "output_type": "display_data"
    }
   ],
   "source": [
    "plt.scatter(X[:,0],X[:,1])"
   ]
  },
  {
   "cell_type": "code",
   "execution_count": 20,
   "metadata": {
    "collapsed": true
   },
   "outputs": [],
   "source": [
    "sse = []\n",
    "for k in range(1,10):\n",
    "    kmeans_sk = KMeans(n_clusters=k, max_iter=1000).fit(X)\n",
    "    sse.append(kmeans_sk.inertia_)\n",
    "    "
   ]
  },
  {
   "cell_type": "code",
   "execution_count": 21,
   "metadata": {},
   "outputs": [
    {
     "data": {
      "text/plain": [
       "Text(0,0.5,'SSE')"
      ]
     },
     "execution_count": 21,
     "metadata": {},
     "output_type": "execute_result"
    },
    {
     "data": {
      "image/png": "[encoded data removed]",
      "text/plain": [
       "<matplotlib.figure.Figure at 0x7f46b4e47dd8>"
      ]
     },
     "metadata": {},
     "output_type": "display_data"
    }
   ],
   "source": [
    "plt.plot(sse)\n",
    "plt.xlabel(\"Number for K\")\n",
    "plt.ylabel(\"SSE\")"
   ]
  },
  {
   "cell_type": "markdown",
   "metadata": {},
   "source": [
    "The curve rapidly tapers off after 4."
   ]
  },
  {
   "cell_type": "markdown",
   "metadata": {},
   "source": [
    "# Use Cases\n",
    "\n",
    "K-Means has many use cases for example:\n",
    "\n",
    "* Document Classification - We can use K-means to cluster documents into multiple catergories based on tags, topics of the content of the document (by using word frequiences), however LDA may be more applicable here.\n",
    "* Customer Segmentation - Clustering can be use to help markets by segmenting customers into groups.\n",
    "* Detecting Fraud/Bots - When we cluster if we choose the correct features fradulant or bot like behaviour cluster together making it easier for us to identify.\n",
    "\n",
    "For more usecases see [here](https://dzone.com/articles/10-interesting-use-cases-for-the-k-means-algorithm)"
   ]
  },
  {
   "cell_type": "markdown",
   "metadata": {},
   "source": [
    "# References\n",
    "\n",
    "* [K-Means Clsutering in Python](https://mubaris.com/2017/10/01/kmeans-clustering-in-python/)\n",
    "* [K Means Blog Lyods](https://datasciencelab.wordpress.com/2013/12/12/clustering-with-k-means-in-python/)\n",
    "* [Use Cases](https://dzone.com/articles/10-interesting-use-cases-for-the-k-means-algorithm)\n",
    "* [K-Means Rosseta Code](https://rosettacode.org/wiki/K-means%2B%2B_clustering#Python)\n",
    "* [K-Means Clustering - The Math of Intelligence](https://www.youtube.com/watch?v=9991JlKnFmk)\n",
    "\n",
    "* [CS221 Kmeans](http://stanford.edu/~cpiech/cs221/handouts/kmeans.html)"
   ]
  },
  {
   "cell_type": "code",
   "execution_count": 8,
   "metadata": {},
   "outputs": [
    {
     "data": {
      "text/plain": [
       "array([[1, 9, 1, 5, 4, 8, 3, 0, 0, 9],\n",
       "       [2, 8, 0, 6, 2, 2, 0, 7, 6, 2],\n",
       "       [3, 5, 6, 7, 3, 2, 9, 1, 4, 1],\n",
       "       [6, 6, 4, 9, 2, 8, 8, 1, 1, 1],\n",
       "       [6, 6, 8, 2, 4, 3, 3, 8, 5, 2],\n",
       "       [5, 2, 6, 8, 6, 3, 7, 6, 6, 8],\n",
       "       [2, 1, 2, 1, 7, 6, 3, 2, 5, 0],\n",
       "       [4, 6, 3, 6, 9, 4, 9, 1, 1, 3],\n",
       "       [5, 0, 6, 1, 3, 1, 2, 4, 6, 1],\n",
       "       [7, 2, 3, 4, 7, 7, 6, 7, 8, 3]])"
      ]
     },
     "execution_count": 8,
     "metadata": {},
     "output_type": "execute_result"
    }
   ],
   "source": [
    "import numpy as np\n",
    "np.random.randint(0,10,size = (10,10))\n",
    "#np.info(np.random.randint)"
   ]
  },
  {
   "cell_type": "code",
   "execution_count": 10,
   "metadata": {},
   "outputs": [
    {
     "data": {
      "text/plain": [
       "[(1, 4), (2, 5), (3, 6)]"
      ]
     },
     "execution_count": 10,
     "metadata": {},
     "output_type": "execute_result"
    }
   ],
   "source": [
    "a = [1,2,3]\n",
    "b = [4,5,6]\n",
    "list(zip(a,b))"
   ]
  },
  {
   "cell_type": "code",
   "execution_count": null,
   "metadata": {
    "collapsed": true
   },
   "outputs": [],
   "source": []
  }
 ],
 "metadata": {
  "kernelspec": {
   "display_name": "Python 3",
   "language": "python",
   "name": "python3"
  },
  "language_info": {
   "codemirror_mode": {
    "name": "ipython",
    "version": 3
   },
   "file_extension": ".py",
   "mimetype": "text/x-python",
   "name": "python",
   "nbconvert_exporter": "python",
   "pygments_lexer": "ipython3",
   "version": "3.6.3"
  }
 },
 "nbformat": 4,
 "nbformat_minor": 2
}
