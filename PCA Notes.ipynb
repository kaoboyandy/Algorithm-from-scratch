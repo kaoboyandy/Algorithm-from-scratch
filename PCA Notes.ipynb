{
 "cells": [
  {
   "cell_type": "markdown",
   "metadata": {},
   "source": [
    "# PCA\n",
    "\n",
    "Dimensionality reduction is useful for two reason:\n",
    "\n",
    "* It makes it easier to view higher dimensional data\n",
    "* Can reduce computational cost of running learning algorithms.\n",
    "\n",
    "PCA or principal compenent analysis, is a dimensionality reduction technqiue that allows us to more easily visulize higher dimensional data. This is achieved by applying a linear transform to the data, we'll cover more on linear transformation later. For now think of it as rotating it so we can view it from the best angle.  The way PCA finds the new axis for the rotation is by looking for the directions of maximum variance."
   ]
  },
  {
   "cell_type": "code",
   "execution_count": null,
   "metadata": {
    "collapsed": true
   },
   "outputs": [],
   "source": [
    "# Check corr between variables\n",
    "sns.heatmap(df.corr())"
   ]
  },
  {
   "cell_type": "markdown",
   "metadata": {},
   "source": [
    "# Algorithm\n",
    "\n",
    "* Standadize the data\n",
    "* Calculate eigen values\n",
    "* Transform the original $ X $ data set using $ W $ to comain a new $ k $ dimensional feature subspace $ Y $\n",
    "* Sort the eigen values in descending order and choose $ k $ eigen vectors that correspond to the $ k $ largest eigen vecots\n",
    "* Construct the projection matrix W from the $ k $ eigen vectors"
   ]
  },
  {
   "cell_type": "code",
   "execution_count": 32,
   "metadata": {
    "collapsed": true
   },
   "outputs": [],
   "source": [
    "import pandas as pd\n",
    "import seaborn as sns\n",
    "import matplotlib.pyplot as plt\n",
    "%matplotlib inline\n",
    "import numpy as np"
   ]
  },
  {
   "cell_type": "code",
   "execution_count": 33,
   "metadata": {},
   "outputs": [
    {
     "data": {
      "text/plain": [
       "(150, 4)"
      ]
     },
     "execution_count": 33,
     "metadata": {},
     "output_type": "execute_result"
    }
   ],
   "source": [
    "df = sns.load_dataset('iris')\n",
    "X = df.iloc[:,:4].values\n",
    "y =df.iloc[:,4].values\n",
    "X.shape #150 examples, each example has 4 features\n"
   ]
  },
  {
   "cell_type": "markdown",
   "metadata": {},
   "source": [
    " $$ \\mathbf{x^T} = \\begin{pmatrix} x_1 \\\\ x_2 \\\\ x_3 \\\\ x_4 \\end{pmatrix} \n",
    "= \\begin{pmatrix} \\text{sepal length} \\\\ \\text{sepal width} \\\\\\text{petal length} \\\\ \\text{petal width} \\end{pmatrix} $$"
   ]
  },
  {
   "cell_type": "markdown",
   "metadata": {},
   "source": [
    "# Standardization\n",
    "\n",
    "We need to standardize the data before we can calculate the eigen values, this can be achieved by subtracting the mean and dividng by standard deviation. This rescales the data to have a mean $ \\mu $ of 0 and a standard deviation $ \\sigma $ or 1 (unit of variance).\n",
    "\n",
    "$$ {\\frac {X-\\mu }{\\sigma }} $$"
   ]
  },
  {
   "cell_type": "code",
   "execution_count": 34,
   "metadata": {
    "collapsed": true
   },
   "outputs": [],
   "source": [
    "mu = X.mean(axis=0)\n",
    "sigma = X.std(axis=0).mean()\n",
    "X= (X - mu) / sigma"
   ]
  },
  {
   "cell_type": "markdown",
   "metadata": {},
   "source": [
    "# Eigenvectors and Eigenvalues\n",
    "\n",
    "We can obtain the eigen vectors and values through various approaches,such as eigendecomposition of the covariance matrix or SVD (singular value decomposition) However in practice most implementations use SVD (singular value decomposition) since it's the least computationally expensive, so well use that. We'll get onto what the eigenvectors and values mean later"
   ]
  },
  {
   "cell_type": "code",
   "execution_count": 35,
   "metadata": {
    "collapsed": true
   },
   "outputs": [],
   "source": [
    "eigenvectors, eigenvalues, _ = np.linalg.svd(X.T, full_matrices=False) "
   ]
  },
  {
   "cell_type": "code",
   "execution_count": 36,
   "metadata": {},
   "outputs": [
    {
     "name": "stdout",
     "output_type": "stream",
     "text": [
      "[[-0.36138659 -0.65658877  0.58202985  0.31548719]\n",
      " [ 0.08452251 -0.73016143 -0.59791083 -0.3197231 ]\n",
      " [-0.85667061  0.17337266 -0.07623608 -0.47983899]\n",
      " [-0.3582892   0.07548102 -0.54583143  0.75365743]]\n"
     ]
    }
   ],
   "source": [
    "print(eigenvectors)"
   ]
  },
  {
   "cell_type": "code",
   "execution_count": 37,
   "metadata": {},
   "outputs": [
    {
     "name": "stdout",
     "output_type": "stream",
     "text": [
      "[ 26.56917643   6.36512452   3.61349905   1.99483333]\n"
     ]
    }
   ],
   "source": [
    "print(eigenvalues)"
   ]
  },
  {
   "cell_type": "markdown",
   "metadata": {},
   "source": [
    "# Transform data\n",
    "\n",
    "Now that we've calculated the eigenvectors $ W $ we can use them to transform the data $ W $ with a matrix multiplication.\n",
    "\n",
    "$$ \\mathbf{Y} = \\mathbf{X} \\times  \\mathbf{W} $$\n",
    "\n",
    "\n",
    "\n",
    "What does the eigen vectors and value represent? Eigen vectors show us the directions with the most variance and the eigen values tell us how much variance is explained in that direction. The eigen vectors allow us to transfrom the data so we can view it from an angle that captures the most variance in it. To illustrate this look at the plot bellow, the eigen values capture the direction of most variance. We can use the eigen values to rotate the data in a way that makes it easier to view."
   ]
  },
  {
   "cell_type": "code",
   "execution_count": 38,
   "metadata": {},
   "outputs": [
    {
     "name": "stdout",
     "output_type": "stream",
     "text": [
      "class:  ndarray\n",
      "shape:  (150, 4)\n",
      "strides:  (8, 1200)\n",
      "itemsize:  8\n",
      "aligned:  True\n",
      "contiguous:  False\n",
      "fortran:  True\n",
      "data pointer: 0x7fd6ed189600\n",
      "byteorder:  little\n",
      "byteswap:  False\n",
      "type: float64\n"
     ]
    }
   ],
   "source": [
    "np.info(X)"
   ]
  },
  {
   "cell_type": "code",
   "execution_count": 39,
   "metadata": {
    "collapsed": true
   },
   "outputs": [],
   "source": [
    "X_transformed = X @ eigenvectors"
   ]
  },
  {
   "cell_type": "code",
   "execution_count": 40,
   "metadata": {},
   "outputs": [
    {
     "data": {
      "text/plain": [
       "(150, 4)"
      ]
     },
     "execution_count": 40,
     "metadata": {},
     "output_type": "execute_result"
    }
   ],
   "source": [
    "X_transformed.shape"
   ]
  },
  {
   "cell_type": "code",
   "execution_count": 41,
   "metadata": {},
   "outputs": [
    {
     "data": {
      "image/png": "[encoded data removed]",
      "text/plain": [
       "<Figure size 720x720 with 2 Axes>"
      ]
     },
     "metadata": {},
     "output_type": "display_data"
    }
   ],
   "source": [
    "from plot_pca import plot_pca_illustration\n",
    "plot_pca_illustration()"
   ]
  },
  {
   "cell_type": "markdown",
   "metadata": {},
   "source": [
    "Since we want to reduce the dimensionality of the data, we won't use all of the eigen values. After sorting we'll  need to pick which eigenvectors we will use to construct ou new subspace. \n"
   ]
  },
  {
   "cell_type": "code",
   "execution_count": 46,
   "metadata": {},
   "outputs": [],
   "source": [
    "eigenpairs = [(np.abs(eigenvalues[i]), eigenvectors[:,i]) for i in range(len(eigenvectors))]\n",
    "eigenpairs.sort(reverse=True)\n",
    "\n",
    "#Reorganize eigen vectors by eigen values\n",
    "n_components = len(eigenvectors)\n",
    "eigenvectors = np.vstack([eigenpairs[i][1] for i in range(n)])\n",
    "eigenvalues = np.vstack([eigenpairs[i][0] for i in range(n)])"
   ]
  },
  {
   "cell_type": "code",
   "execution_count": 43,
   "metadata": {},
   "outputs": [
    {
     "data": {
      "text/plain": [
       "array([[-0.36138659,  0.08452251, -0.85667061, -0.3582892 ],\n",
       "       [-0.65658877, -0.73016143,  0.17337266,  0.07548102],\n",
       "       [ 0.58202985, -0.59791083, -0.07623608, -0.54583143],\n",
       "       [ 0.31548719, -0.3197231 , -0.47983899,  0.75365743]])"
      ]
     },
     "execution_count": 43,
     "metadata": {},
     "output_type": "execute_result"
    }
   ],
   "source": [
    "eigenvectors"
   ]
  },
  {
   "cell_type": "code",
   "execution_count": 44,
   "metadata": {},
   "outputs": [
    {
     "data": {
      "text/plain": [
       "array([[ 26.56917643],\n",
       "       [  6.36512452],\n",
       "       [  3.61349905],\n",
       "       [  1.99483333]])"
      ]
     },
     "execution_count": 44,
     "metadata": {},
     "output_type": "execute_result"
    }
   ],
   "source": [
    "eigenvalues"
   ]
  },
  {
   "cell_type": "markdown",
   "metadata": {},
   "source": [
    "# Explained variance\n",
    "\n",
    "This is a way to tell how accurate our 2D plot is. If the explained variance is across the first 2 principal components then the 2D plot is a good representation of our data."
   ]
  },
  {
   "cell_type": "code",
   "execution_count": 48,
   "metadata": {},
   "outputs": [
    {
     "data": {
      "text/html": [
       "<div>\n",
       "<style>\n",
       "    .dataframe thead tr:only-child th {\n",
       "        text-align: right;\n",
       "    }\n",
       "\n",
       "    .dataframe thead th {\n",
       "        text-align: left;\n",
       "    }\n",
       "\n",
       "    .dataframe tbody tr th {\n",
       "        vertical-align: top;\n",
       "    }\n",
       "</style>\n",
       "<table border=\"1\" class=\"dataframe\">\n",
       "  <thead>\n",
       "    <tr style=\"text-align: right;\">\n",
       "      <th></th>\n",
       "      <th>Explained Variance</th>\n",
       "      <th>Principal component</th>\n",
       "    </tr>\n",
       "  </thead>\n",
       "  <tbody>\n",
       "    <tr>\n",
       "      <th>0</th>\n",
       "      <td>0.806733</td>\n",
       "      <td>PC 1</td>\n",
       "    </tr>\n",
       "    <tr>\n",
       "      <th>1</th>\n",
       "      <td>0.193267</td>\n",
       "      <td>PC 2</td>\n",
       "    </tr>\n",
       "  </tbody>\n",
       "</table>\n",
       "</div>"
      ],
      "text/plain": [
       "   Explained Variance Principal component\n",
       "0            0.806733                PC 1\n",
       "1            0.193267                PC 2"
      ]
     },
     "execution_count": 48,
     "metadata": {},
     "output_type": "execute_result"
    }
   ],
   "source": [
    "n = 2\n",
    "names = [f'PC {i}' for i in range(1, n  + 1)]\n",
    "df = pd.DataFrame({'Principal component':names,'Explained Variance':eigenvalues.ravel()/eigenvalues.sum()})\n",
    "# ravel() transform data into 1D matrix\n",
    "df\n",
    "#ns.barplot(x='Principal component',y='Explained Variance',data= df)\n"
   ]
  },
  {
   "cell_type": "markdown",
   "metadata": {},
   "source": [
    "# Altogether\n",
    "\n",
    "Let put all the piece together to get our working implementation."
   ]
  },
  {
   "cell_type": "code",
   "execution_count": 14,
   "metadata": {
    "collapsed": true
   },
   "outputs": [],
   "source": [
    "def pca(X,n_components=2):\n",
    "\n",
    "    #standadize\n",
    "    mu = X.mean(axis=0)\n",
    "    sigma = X.std(axis=0).mean()\n",
    "    X= (X - mu) / sigma\n",
    "\n",
    "    # calculate eigen vectors and values\n",
    "    eigenvectors, eigenvalues, _ = np.linalg.svd(X.T, full_matrices=False)\n",
    "\n",
    "    #Sort eigen vectors by size of eigen value\n",
    "    eigenpairs = [(np.abs(eigenvalues[i]), eigenvectors[:,i]) for i in range(len(eigenvectors))]\n",
    "    eigenpairs.sort(reverse=True)\n",
    "\n",
    "    #Reorganize eigen vectors by eigen values\n",
    "    n_components = len(eigenvectors)\n",
    "    eigenvectors = np.vstack([eigenpairs[i][1] for i in range(n_components)])\n",
    "    eigenvalues = np.vstack([eigenpairs[i][0] for i in range(n_components)])\n",
    "\n",
    "    k = 2\n",
    "    return X @ eigenvectors, eigenvectors, eigenvalues"
   ]
  },
  {
   "cell_type": "markdown",
   "metadata": {},
   "source": [
    "# Sklearn\n",
    "Just for sanity lets check our implementation against sklearn."
   ]
  },
  {
   "cell_type": "code",
   "execution_count": 15,
   "metadata": {
    "collapsed": true
   },
   "outputs": [],
   "source": [
    "from sklearn.decomposition import PCA"
   ]
  },
  {
   "cell_type": "code",
   "execution_count": 16,
   "metadata": {
    "collapsed": true
   },
   "outputs": [],
   "source": [
    "X_transfromed,eigenvectors,eigenvalues = pca(X)"
   ]
  },
  {
   "cell_type": "code",
   "execution_count": 17,
   "metadata": {
    "collapsed": true
   },
   "outputs": [],
   "source": [
    "pca_sk = PCA(2)\n",
    "pca_sk.fit(X)\n",
    "X_transformed_sk =  pca_sk.fit_transform(X)"
   ]
  },
  {
   "cell_type": "code",
   "execution_count": 18,
   "metadata": {},
   "outputs": [
    {
     "data": {
      "text/plain": [
       "array([[ 0.36138659, -0.08452251,  0.85667061,  0.3582892 ],\n",
       "       [ 0.65658877,  0.73016143, -0.17337266, -0.07548102]])"
      ]
     },
     "execution_count": 18,
     "metadata": {},
     "output_type": "execute_result"
    }
   ],
   "source": [
    "pca_sk.components_"
   ]
  },
  {
   "cell_type": "code",
   "execution_count": 19,
   "metadata": {},
   "outputs": [
    {
     "data": {
      "text/plain": [
       "array([[-0.36138659,  0.08452251, -0.85667061, -0.3582892 ],\n",
       "       [-0.65658877, -0.73016143,  0.17337266,  0.07548102],\n",
       "       [ 0.58202985, -0.59791083, -0.07623608, -0.54583143],\n",
       "       [ 0.31548719, -0.3197231 , -0.47983899,  0.75365743]])"
      ]
     },
     "execution_count": 19,
     "metadata": {},
     "output_type": "execute_result"
    }
   ],
   "source": [
    "eigenvectors"
   ]
  },
  {
   "cell_type": "code",
   "execution_count": 21,
   "metadata": {},
   "outputs": [
    {
     "name": "stderr",
     "output_type": "stream",
     "text": [
      "/Users/andy/anaconda2/envs/py36/lib/python3.6/site-packages/ipykernel_launcher.py:2: DeprecationWarning: elementwise == comparison failed; this will raise an error in the future.\n",
      "  \n"
     ]
    },
    {
     "data": {
      "text/plain": [
       "False"
      ]
     },
     "execution_count": 21,
     "metadata": {},
     "output_type": "execute_result"
    }
   ],
   "source": [
    "#rounding error means not totally equal\n",
    "np.all((np.matrix.round(X_transformed,5) ==  np.matrix.round(X_transformed_sk,5)))"
   ]
  },
  {
   "cell_type": "markdown",
   "metadata": {},
   "source": [
    "# References\n",
    "\n",
    "* [Eigenvectors and values visually explained](http://setosa.io/ev/eigenvectors-and-eigenvalues/)\n",
    "* [Understanding Eigenvector and Egienvalues Visually](https://alyssaq.github.io/2015/understanding-eigenvectors-and-eigenvalues-visually/)\n",
    "* [Plotly PCA](https://plot.ly/ipython-notebooks/principal-component-analysis/)"
   ]
  }
 ],
 "metadata": {
  "kernelspec": {
   "display_name": "Python 3",
   "language": "python",
   "name": "python3"
  },
  "language_info": {
   "codemirror_mode": {
    "name": "ipython",
    "version": 3
   },
   "file_extension": ".py",
   "mimetype": "text/x-python",
   "name": "python",
   "nbconvert_exporter": "python",
   "pygments_lexer": "ipython3",
   "version": "3.6.3"
  }
 },
 "nbformat": 4,
 "nbformat_minor": 2
}
